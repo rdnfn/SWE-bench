{
 "cells": [
  {
   "cell_type": "markdown",
   "metadata": {},
   "source": [
    "# Extracting prompts from SWE-Bench\n",
    "\n",
    "This notebook extracts prompts from the SWE-bench dataset to be used by humans and language models."
   ]
  },
  {
   "cell_type": "code",
   "execution_count": null,
   "metadata": {},
   "outputs": [],
   "source": [
    "from datasets import load_dataset\n",
    "import pandas as pd\n",
    "\n",
    "# Load the 'squad' dataset\n",
    "dataset = load_dataset(\"princeton-nlp/SWE-bench_oracle_llama\", split='test')\n",
    "df = pd.DataFrame(dataset)"
   ]
  },
  {
   "cell_type": "code",
   "execution_count": null,
   "metadata": {},
   "outputs": [],
   "source": [
    "# Show available repos\n",
    "df[\"repo\"].unique()"
   ]
  },
  {
   "cell_type": "code",
   "execution_count": null,
   "metadata": {},
   "outputs": [],
   "source": [
    "import os\n",
    "\n",
    "def get_rnd_issue(df: pd.DataFrame, repo: str=None, dir: str=\"./prompts_oracle/\") -> pd.Series:\n",
    "    \"\"\"\n",
    "    Fetches a random issue from the given DataFrame and saves its prompt to a file in `dir`.\n",
    "    \"\"\"\n",
    "    \n",
    "    if not os.path.exists(dir):\n",
    "        os.makedirs(dir)\n",
    "\n",
    "    # If repo is specified, filter rows by the given repo name.\n",
    "    if repo:\n",
    "        df = df[df['repo'] == repo]\n",
    "    \n",
    "    # Return a random row from the filtered DataFrame.\n",
    "    issue =  df.sample(n=1).iloc[0]\n",
    "\n",
    "    text = issue['text']\n",
    "    instance_id = issue['instance_id']\n",
    "\n",
    "    # Create a filename using the \"instance_id\"\n",
    "    filename = f\"{dir}/issue_{instance_id}.txt\"\n",
    "\n",
    "    # Save the \"text\" to the file\n",
    "    with open(filename, 'w', encoding='utf-8') as f:\n",
    "        f.write(text)"
   ]
  },
  {
   "cell_type": "code",
   "execution_count": null,
   "metadata": {},
   "outputs": [],
   "source": [
    "get_rnd_issue(df, repo=\"django/django\")"
   ]
  },
  {
   "cell_type": "markdown",
   "metadata": {},
   "source": []
  }
 ],
 "metadata": {
  "kernelspec": {
   "display_name": "Python 3",
   "language": "python",
   "name": "python3"
  },
  "language_info": {
   "codemirror_mode": {
    "name": "ipython",
    "version": 3
   },
   "file_extension": ".py",
   "mimetype": "text/x-python",
   "name": "python",
   "nbconvert_exporter": "python",
   "pygments_lexer": "ipython3",
   "version": "3.8.17"
  }
 },
 "nbformat": 4,
 "nbformat_minor": 2
}
